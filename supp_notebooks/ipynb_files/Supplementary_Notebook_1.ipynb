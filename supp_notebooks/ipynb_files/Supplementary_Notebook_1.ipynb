{
 "cells": [
  {
   "cell_type": "markdown",
   "metadata": {},
   "source": [
    "### Supplementary Notebook 1\n",
    "---\n",
    "### Standard preprocessing of single-cell data\n",
    "\n",
    "#### Overview of steps performed:\n",
    "\n",
    "1. **Download the data**\n",
    "\n",
    "\n",
    "2. **Raw read alignment** (5 options, A-E)\n",
    "\n",
    "    A. CellRanger\n",
    "    \n",
    "    B. STAR\n",
    "    \n",
    "    C. BWA\n",
    "    \n",
    "    D. Kallisto Bustools\n",
    "    \n",
    "    E. Salmon\n",
    "    \n",
    "    \n",
    "3. **Feature matrix generation using HTseq-counts**"
   ]
  },
  {
   "cell_type": "markdown",
   "metadata": {
    "heading_collapsed": true
   },
   "source": [
    "### Step 1. Download the raw data"
   ]
  },
  {
   "cell_type": "markdown",
   "metadata": {
    "hidden": true
   },
   "source": [
    "#### Download data: 10x Genomics\n",
    "\n",
    "Now, we have a few options. For the 10x Genomics data, the easiest thing to do is to use *CellRanger*, which produces a convenient assembly of files and provides QC metrics to assess the quality of the data. *CellRanger* also produces the count matrices in convenient file format. *CellRanger* uses *STAR* to align to the genome. This particular sample will be aligned to the `hg38` (downloaded <a href=\"https://cf.10xgenomics.com/supp/cell-exp/refdata-gex-GRCh38-2020-A.tar.gz\">here</a>)\n",
    "\n",
    "`curl -O https://cf.10xgenomics.com/supp/cell-exp/refdata-gex-GRCh38-2020-A.tar.gz`\n",
    "\n",
    "`tar -zxvf refdata-gex-GRCh38-2020-A.tar.gz`\n",
    "\n",
    "For this example, we will first start by downloading the data. We're using data from 10x Genomics: <a href=\"https://support.10xgenomics.com/single-cell-gene-expression/datasets/3.0.0/pbmc_1k_v3\">5k Peripheral blood mononuclear cells (PBMCs)</a>\n",
    "\n",
    "`wget https://cf.10xgenomics.com/samples/cell-exp/3.0.0/pbmc_1k_v3/pbmc_1k_v3_fastqs.tar .`\n",
    "\n",
    "`tar -xvf pbmc_1k_v3_fastqs.tar`\n",
    "\n",
    "Now we have:\n",
    "\n",
    "`\n",
    "pbmc_1k_v3_fastqs/\n",
    "    pbmc_1k_v3_S1_L001_I1_001.fastq.gz  \n",
    "    pbmc_1k_v3_S1_L002_I1_001.fastq.gz\n",
    "    pbmc_1k_v3_S1_L001_R1_001.fastq.gz  \n",
    "    pbmc_1k_v3_S1_L002_R1_001.fastq.gz\n",
    "    pbmc_1k_v3_S1_L001_R2_001.fastq.gz  \n",
    "    pbmc_1k_v3_S1_L002_R2_001.fastq.gz\n",
    "`\n",
    "\n",
    "These `fastq` files are now stored in whatever directory the above command was executed. We can then execute the `cellranger count` function as described on their <a href=\"https://support.10xgenomics.com/single-cell-gene-expression/software/pipelines/latest/using/count\">website</a>."
   ]
  },
  {
   "cell_type": "markdown",
   "metadata": {
    "hidden": true
   },
   "source": [
    "#### Download data: SmartSeq\n",
    "\n",
    "For an example of data generated with ***SmartSeq*** technology, we will download this data from the <a href=\"https://www.ncbi.nlm.nih.gov/geo/\">**GEO Database**</a>. We will use a dataset from the seminal paper, ***Single-cell RNA-seq highlights intratumoral heterogeneity in primary glioblastoma*** [(Patel et al., 2015)](https://doi.org/10.1126/science.1254257)\n",
    "\n",
    "After obtaining the list of accessions from GEO, we will execute the following code to download the data:"
   ]
  },
  {
   "cell_type": "raw",
   "metadata": {
    "hidden": true
   },
   "source": [
    "#!/bin/bash\n",
    "\n",
    "# create file var\n",
    "FILE=\"patel2015_accessions.txt\"\n",
    "\n",
    "all_lines=`cat $FILE`\n",
    "\n",
    "for line in $all_lines; do fasterq-dump $line; done"
   ]
  },
  {
   "cell_type": "markdown",
   "metadata": {},
   "source": [
    "### Step 2. Raw read alignment"
   ]
  },
  {
   "cell_type": "markdown",
   "metadata": {},
   "source": [
    "For the sake of instruction, we will not use CellRanger in this notebook but instead we will start by aligning the raw reads from the ***(Patel et al, 2015) dataset***. in the `fastq` files we just downloaded to the human genome (hg19), which can be downloaded from <a href=\"https://hgdownload.soe.ucsc.edu/downloads.html\">UCSC Genome Browser</a>."
   ]
  },
  {
   "cell_type": "markdown",
   "metadata": {},
   "source": [
    "Generate the STAR-compatible reference genome files (only needs to be done once per reference genome)"
   ]
  },
  {
   "cell_type": "raw",
   "metadata": {},
   "source": [
    "#!/bin/bash\n",
    "\n",
    "STAR --runThreadN 6 \\\n",
    "--runMode genomeGenerate \\\n",
    "--genomeDir /home/mvinyard/ref/hg19_idx/ \\\n",
    "--genomeFastaFiles /home/mvinyard/ref/fasta/genome.fa \\\n",
    "--sjdbGTFfile /home/mvinyard/ref/genes/genes.gtf \\\n",
    "--sjdbOverhang 99"
   ]
  },
  {
   "cell_type": "markdown",
   "metadata": {},
   "source": [
    "Perform the alignment"
   ]
  },
  {
   "cell_type": "raw",
   "metadata": {},
   "source": [
    "#!/bin/bash\n",
    "\n",
    "ALL_SRR=$(cat /home/mvinyard/patel_2015/patel2015_accessions.txt)\n",
    "FASTQS=/home/mvinyard/patel_2015/fastqs\n",
    "OUT_PREFIX=/home/mvinyard/patel_2015/alignment\n",
    "\n",
    "for CELL in ${ALL_SRR}\n",
    "do\n",
    "  echo ${CELL}\n",
    "  READ_ONE=${FASTQS}/${CELL}_1.fastq\n",
    "  READ_TWO=${FASTQS}/${CELL}_2.fastq\n",
    "  STAR --runThreadN 20 \\\n",
    "  --genomeDir /home/mvinyard/ref/hg19/ \\\n",
    "  --readFilesIn ${READ_ONE} ${READ_TWO} \\\n",
    "  --outFileNamePrefix ${OUT_PREFIX}/${CELL} \\\n",
    "  --outSAMtype BAM SortedByCoordinate \\\n",
    "  --outFilterMultimapNmax 2 \\\n",
    "  --outFilterMismatchNmax 3 \\\n",
    "  --alignIntronMax 1 \\\n",
    "  --alignEndsType EndToEnd\n",
    "done"
   ]
  },
  {
   "cell_type": "markdown",
   "metadata": {},
   "source": [
    "Other tools not described in detail:"
   ]
  },
  {
   "cell_type": "markdown",
   "metadata": {},
   "source": [
    "<a href=\"https://salmon.readthedocs.io/en/latest/index.html\">**Salmon**</a> and <a href=\"https://www.kallistobus.tools/\">**kallisto | bustools**</a> can generate feature matrices much faster than the above-used tools. These methods use a pseudoalignment approach. Additionally, <a href=\"http://bio-bwa.sourceforge.net/\">**BWA**</a> can be used for low-divergence sequence alignment. The linked tutorials can be used to process feature matrices for downstream use with the below-mentioned analysis tools. "
   ]
  },
  {
   "cell_type": "markdown",
   "metadata": {
    "heading_collapsed": true
   },
   "source": [
    "### Step 3. Read counting and feature matrix generation"
   ]
  },
  {
   "cell_type": "markdown",
   "metadata": {
    "hidden": true
   },
   "source": [
    "The following bash script was run using <a href=\"http://www.htslib.org/\">samtoools index</a> and <a href=\"https://htseq.readthedocs.io/en/master/count.html\">htseq-count</a> to index and count the reads per feature in each cell."
   ]
  },
  {
   "cell_type": "raw",
   "metadata": {
    "hidden": true
   },
   "source": [
    "#!/bin/bash\n",
    "\n",
    "BAMDIR=/home/mvinyard/patel_2015/alignment/\n",
    "BAMFILES=$(ls ${BAMDIR})\n",
    "GTF=/home/mvinyard/ref/gencode.v19.annotation.gtf\n",
    "\n",
    "\n",
    "for FILE in ${BAMFILES}\n",
    "do\n",
    "  echo ${FILE}\n",
    "\n",
    "  _FILE_=${BAMDIR}${FILE}\n",
    "\n",
    "  samtools index ${_FILE_}\n",
    "  echo \"indexing of alignment complete\"\n",
    "  OUTFILE=$(echo ${FILE} | cut -d'A' -f 1)\n",
    "  htseq-count ${_FILE_} ${GTF} > /home/mvinyard/patel_2015/counts/${OUTFILE}.count\n",
    "done"
   ]
  },
  {
   "cell_type": "markdown",
   "metadata": {
    "hidden": true
   },
   "source": [
    "We can also use <a href=\"http://www.htslib.org/\">**samtools index**</a> and <a href=\"http://bioinf.wehi.edu.au/featureCounts/\">**featureCounts**</a>. In general, this second option, **featureCounts** is much faster."
   ]
  },
  {
   "cell_type": "raw",
   "metadata": {
    "hidden": true
   },
   "source": [
    "#!/bin/bash\n",
    "\n",
    "BAMDIR=/home/mvinyard/patel_2015/alignment/\n",
    "BAMFILES=$(ls ${BAMDIR})\n",
    "GTF=/home/mvinyard/ref/gencode.v19.annotation.gtf\n",
    "\n",
    " for FILE in ${BAMFILES}\n",
    " do\n",
    "   echo ${FILE}\n",
    "   _FILE_=${BAMDIR}${FILE}\n",
    "   samtools index ${_FILE_}\n",
    "   echo \"indexing of alignment complete\"\n",
    "   OUTFILE=$(echo ${FILE} | cut -d'A' -f 1)\n",
    "   featureCounts -T 8 -a ${GTF} -o /home/mvinyard/patel_2015/featureCounts/${OUTFILE}.txt ${_FILE_}\n",
    " done"
   ]
  },
  {
   "cell_type": "markdown",
   "metadata": {
    "hidden": true
   },
   "source": [
    "Both of these methods generate a text file. Each line contains a feature name and a feature count (and other information, if using featureCounts). We can cut the column containing the counts from each file and paste it together with the genomic coordinates to get a feature matrix, cell x feature. "
   ]
  },
  {
   "cell_type": "raw",
   "metadata": {
    "hidden": true
   },
   "source": [
    "#!/bin/bash\n",
    "\n",
    "COUNTDIR=/home/mvinyard/patel_2015/featureCounts/\n",
    "CELLS=$(ls ${COUNTDIR})\n",
    "OUTDIR=/home/mvinyard/patel_2015/count_cols\n",
    "\n",
    "for CELL in ${CELLS}\n",
    "do  \n",
    "  cat ${COUNTDIR}${CELL} | cut -f7 > ${OUTDIR}/${CELL}/_count_col.txt\n",
    "done\n",
    "\n",
    "cat SRR1294581.txt | cut -f1 > ${OUTDIR}/_coords.txt\n",
    "\n",
    "paste * > feature_matrix.txt"
   ]
  },
  {
   "cell_type": "markdown",
   "metadata": {
    "hidden": true
   },
   "source": [
    "The output looks something like this (if you only had three cells!):"
   ]
  },
  {
   "cell_type": "raw",
   "metadata": {
    "hidden": true
   },
   "source": [
    "ENSG00000231716.1\t0\t0\t0\n",
    "ENSG00000234744.1\t0\t0\t0\n",
    "ENSG00000233156.1\t0\t0\t0\n",
    "ENSG00000234888.1\t0\t0\t0\n",
    "ENSG00000215507.6\t0\t0\t0\n",
    "ENSG00000235014.1\t0\t0\t0\n",
    "ENSG00000225876.1\t0\t0\t0\n",
    "ENSG00000251796.1\t0\t0\t0\n",
    "ENSG00000229238.3\t0\t0\t0\n",
    "ENSG00000252948.1\t0\t0\t0\n",
    "ENSG00000233843.1\t0\t0\t0\n",
    "ENSG00000188399.5\t0\t0\t0\n",
    "ENSG00000215506.5\t0\t0\t0\n",
    "ENSG00000224240.1\t0\t0\t0\n",
    "ENSG00000227629.1\t0\t0\t0\n",
    "ENSG00000237917.1\t0\t0\t0\n",
    "ENSG00000231514.1\t0\t0\t0\n",
    "ENSG00000235857.1\t0\t0\t0\n",
    "ENSG00000210049.1\t0\t0\t0\n",
    "ENSG00000211459.2\t105\t571\t3300\n",
    "ENSG00000210077.1\t2\t0\t0\n",
    "ENSG00000210082.2\t649\t3507\t2718\n",
    "ENSG00000209082.1\t7\t2\t0\n",
    "ENSG00000198888.2\t203\t404\t82\n",
    "ENSG00000210100.1\t2\t3\t38\n",
    "ENSG00000210107.1\t2\t1\t8\n",
    "ENSG00000210112.1\t9\t4\t18\n",
    "ENSG00000198763.3\t81\t212\t943\n",
    "ENSG00000210117.1\t2\t0\t0\n",
    "ENSG00000210127.1\t1\t2\t13\n",
    "ENSG00000210135.1\t1\t8\t39\n",
    "ENSG00000210140.1\t0\t1\t5\n",
    "ENSG00000210144.1\t0\t9\t46\n",
    "ENSG00000198804.2\t920\t4036\t5264\n",
    "ENSG00000210151.2\t9\t23\t38\n",
    "ENSG00000210154.1\t18\t2\t0\n",
    "ENSG00000198712.1\t856\t2257\t3029\n",
    "ENSG00000210156.1\t35\t11\t2\n",
    "ENSG00000228253.1\t115\t69\t83\n",
    "ENSG00000198899.2\t151\t277\t660\n",
    "ENSG00000198938.2\t84\t438\t1750\n",
    "ENSG00000210164.1\t1\t5\t0\n",
    "ENSG00000198840.2\t6\t37\t377\n",
    "ENSG00000210174.1\t1\t4\t0\n",
    "ENSG00000212907.2\t60\t251\t592\n",
    "ENSG00000198886.2\t598\t2980\t4738\n",
    "ENSG00000210176.1\t2\t3\t0\n",
    "ENSG00000210184.1\t1\t4\t0\n",
    "ENSG00000210191.1\t1\t3\t0\n",
    "ENSG00000198786.2\t550\t707\t0\n",
    "ENSG00000198695.2\t298\t362\t0\n",
    "ENSG00000210194.1\t1\t4\t0\n",
    "ENSG00000198727.2\t478\t391\t336\n",
    "ENSG00000210195.2\t0\t10\t0"
   ]
  },
  {
   "cell_type": "markdown",
   "metadata": {},
   "source": [
    "### Next steps\n",
    "Now we are ready to move on to one of the supported analysis pipelines: *Scanpy*, *Seurat*, *PAGA*, and *STREAM*."
   ]
  }
 ],
 "metadata": {
  "kernelspec": {
   "display_name": "Python [conda env:scutil]",
   "language": "python",
   "name": "conda-env-scutil-py"
  },
  "language_info": {
   "codemirror_mode": {
    "name": "ipython",
    "version": 3
   },
   "file_extension": ".py",
   "mimetype": "text/x-python",
   "name": "python",
   "nbconvert_exporter": "python",
   "pygments_lexer": "ipython3",
   "version": "3.8.6"
  }
 },
 "nbformat": 4,
 "nbformat_minor": 4
}
